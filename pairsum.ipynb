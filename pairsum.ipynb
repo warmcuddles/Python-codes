{
 "cells": [
  {
   "cell_type": "markdown",
   "metadata": {},
   "source": [
    "# Array Pair Sum\n",
    "### Problem\n",
    "**Given an integer array, output all the unique pairs that sum up to a specific value k.**\n",
    "\n",
    "So the input:\n",
    "pair_sum([1,3,2,2],4)\n",
    "would return 2 pairs:\n",
    "<pre>\n",
    " (1,3)\n",
    " (2,2)\n",
    "</pre>\n",
    "**NOTE: FOR TESTING PURPOSES CHANGE YOUR FUNCTION SO IT OUTPUTS THE NUMBER OF PAIRS**\n",
    "\n",
    "### Solution\n"
   ]
  },
  {
   "cell_type": "code",
   "execution_count": 42,
   "metadata": {},
   "outputs": [],
   "source": [
    "def pairSum(arr,w): # w is pair sum we want to achieve\n",
    "    \n",
    "    if len(arr)<2:  # if array has only 1 or 0 elem \n",
    "        return        \n",
    "    \n",
    "    seen = set()    #empty set\n",
    "    output = set()\n",
    "    \n",
    "    for num in arr:\n",
    "        target = w-num\n",
    "        \n",
    "        if target not in seen:\n",
    "            seen.add(num)\n",
    "        else:\n",
    "            output.add( ((min(num,target)),max(num,target)) )\n",
    "    \n",
    "    print('\\n'.join(map(str,list(output))))\n",
    "        "
   ]
  },
  {
   "cell_type": "code",
   "execution_count": 44,
   "metadata": {},
   "outputs": [
    {
     "name": "stdout",
     "output_type": "stream",
     "text": [
      "(1, 3)\n",
      "(2, 2)\n"
     ]
    }
   ],
   "source": [
    "pairSum([1,3,2,2],4)"
   ]
  },
  {
   "cell_type": "code",
   "execution_count": null,
   "metadata": {
    "collapsed": true
   },
   "outputs": [],
   "source": []
  }
 ],
 "metadata": {
  "kernelspec": {
   "display_name": "Python 3",
   "language": "python",
   "name": "python3"
  },
  "language_info": {
   "codemirror_mode": {
    "name": "ipython",
    "version": 3
   },
   "file_extension": ".py",
   "mimetype": "text/x-python",
   "name": "python",
   "nbconvert_exporter": "python",
   "pygments_lexer": "ipython3",
   "version": "3.6.3"
  }
 },
 "nbformat": 4,
 "nbformat_minor": 2
}
