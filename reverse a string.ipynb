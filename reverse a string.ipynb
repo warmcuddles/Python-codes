{
 "cells": [
  {
   "cell_type": "markdown",
   "metadata": {},
   "source": [
    "# Sentence Reversal\n",
    "**Problem\n",
    "Given a string of words, reverse all the words. For example:**\n",
    "\n",
    "Given:\n",
    "\n",
    "<pre>'This is the best'</pre>\n",
    "\n",
    "Return:\n",
    "\n",
    "<pre>'best the is This'</pre>\n",
    "\n",
    "As part of this exercise you should remove all leading and trailing whitespace. So that inputs such as:\n",
    "\n",
    "<pre>'  space here'  and 'space here      '</pre>\n",
    "\n",
    "both become:\n",
    "\n",
    "<pre>'here space'</pre>"
   ]
  },
  {
   "cell_type": "code",
   "execution_count": 89,
   "metadata": {
    "collapsed": true
   },
   "outputs": [],
   "source": [
    "def rev(st):\n",
    "    return \" \".join(reversed(st.split()))"
   ]
  },
  {
   "cell_type": "code",
   "execution_count": 90,
   "metadata": {},
   "outputs": [
    {
     "data": {
      "text/plain": [
       "'best the is This'"
      ]
     },
     "execution_count": 90,
     "metadata": {},
     "output_type": "execute_result"
    }
   ],
   "source": [
    "rev('This is the best')"
   ]
  },
  {
   "cell_type": "code",
   "execution_count": 24,
   "metadata": {
    "collapsed": true
   },
   "outputs": [],
   "source": [
    "def rev2(st):\n",
    "    return \" \".join(st.split()[::-1])"
   ]
  },
  {
   "cell_type": "code",
   "execution_count": 26,
   "metadata": {},
   "outputs": [
    {
     "data": {
      "text/plain": [
       "'here space'"
      ]
     },
     "execution_count": 26,
     "metadata": {},
     "output_type": "execute_result"
    }
   ],
   "source": [
    "rev2('  space here')"
   ]
  },
  {
   "cell_type": "code",
   "execution_count": 87,
   "metadata": {},
   "outputs": [],
   "source": [
    "def rev_word3(s):\n",
    "    words = []\n",
    "    length = len(s)\n",
    "    spaces = [' ']\n",
    "    \n",
    "    i = 0\n",
    "\n",
    "    while i < length:\n",
    "        if s[i] not in spaces:\n",
    "            word_start = i   \n",
    "            while i < length and s[i] not in spaces:\n",
    "                i += 1\n",
    "            words.append(s[word_start:i])\n",
    "        i += 1\n",
    "        \n",
    "    return rq(words)\n",
    "def rq(st):\n",
    "    li=[]\n",
    "    for i in range(len(st)-1,-1,-1):\n",
    "        li.append(st[i])\n",
    "    return \" \".join(li)\n",
    "        "
   ]
  },
  {
   "cell_type": "code",
   "execution_count": 88,
   "metadata": {},
   "outputs": [
    {
     "data": {
      "text/plain": [
       "'for here space'"
      ]
     },
     "execution_count": 88,
     "metadata": {},
     "output_type": "execute_result"
    }
   ],
   "source": [
    "rev_word3('  space here for  ')"
   ]
  },
  {
   "cell_type": "code",
   "execution_count": null,
   "metadata": {
    "collapsed": true
   },
   "outputs": [],
   "source": []
  }
 ],
 "metadata": {
  "kernelspec": {
   "display_name": "Python 3",
   "language": "python",
   "name": "python3"
  },
  "language_info": {
   "codemirror_mode": {
    "name": "ipython",
    "version": 3
   },
   "file_extension": ".py",
   "mimetype": "text/x-python",
   "name": "python",
   "nbconvert_exporter": "python",
   "pygments_lexer": "ipython3",
   "version": "3.6.3"
  }
 },
 "nbformat": 4,
 "nbformat_minor": 2
}
