{
 "cells": [
  {
   "attachments": {
    "image.png": {
     "image/png": "[encoded data removed]"
    }
   },
   "cell_type": "markdown",
   "metadata": {},
   "source": [
    "\n",
    "![image.png](attachment:image.png)"
   ]
  },
  {
   "cell_type": "code",
   "execution_count": 57,
   "metadata": {},
   "outputs": [
    {
     "name": "stdout",
     "output_type": "stream",
     "text": [
      "250.0\n"
     ]
    }
   ],
   "source": [
    "def polyArea(cordi):\n",
    "    \n",
    "    X,Y =[],[]  # empty array or list\n",
    "    \n",
    "    for (q,k) in cor:\n",
    "        X.append(q)   # X coordinates list (x1,x2,x3,....)\n",
    "        Y.append(k)   #Y coordinates list (Y1,Y2,Y3.....)\n",
    "        \n",
    "    sides = len(cordi) - 1   # no. of sides of polygon 1 lesser than given points bcoz 1st and last is same point\n",
    "    area = 0  #iterate and add values to area as shown in formula\n",
    "    j = sides - 1 #The last vertex is the 'previous' one to the first\n",
    "\n",
    "    for i in range(sides):   \n",
    "        area = area +  (X[j]+X[i]) * (Y[j]-Y[i])  # implementation of formula\n",
    "        j = i  #j is previous vertex to i\n",
    "    print(area / 2)\n",
    "    \n",
    "cor=[(10,10),(10,20),(20,30),(30,20),(20,10),(10,10)]\n",
    "polyArea(cor)"
   ]
  },
  {
   "cell_type": "code",
   "execution_count": null,
   "metadata": {
    "collapsed": true
   },
   "outputs": [],
   "source": []
  }
 ],
 "metadata": {
  "kernelspec": {
   "display_name": "Python 3",
   "language": "python",
   "name": "python3"
  },
  "language_info": {
   "codemirror_mode": {
    "name": "ipython",
    "version": 3
   },
   "file_extension": ".py",
   "mimetype": "text/x-python",
   "name": "python",
   "nbconvert_exporter": "python",
   "pygments_lexer": "ipython3",
   "version": "3.6.3"
  }
 },
 "nbformat": 4,
 "nbformat_minor": 2
}
