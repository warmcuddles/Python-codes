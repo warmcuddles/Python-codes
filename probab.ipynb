{
 "cells": [
  {
   "cell_type": "markdown",
   "metadata": {},
   "source": [
    "# 10,000 times simulation of 10 coin tossed "
   ]
  },
  {
   "cell_type": "code",
   "execution_count": 23,
   "metadata": {},
   "outputs": [],
   "source": [
    "import numpy as np\n",
    "np.random.seed(123)"
   ]
  },
  {
   "cell_type": "markdown",
   "metadata": {},
   "source": [
    "# 1 time simulation of a coin"
   ]
  },
  {
   "cell_type": "code",
   "execution_count": 25,
   "metadata": {},
   "outputs": [
    {
     "name": "stdout",
     "output_type": "stream",
     "text": [
      "Tails\n"
     ]
    }
   ],
   "source": [
    "coin = np.random.randint(0, 2)      # 0 = heads, 1 = tails\n",
    "if coin == 0:\n",
    "    print(\"Heads\")\n",
    "else:\n",
    "    print(\"Tails\")"
   ]
  },
  {
   "cell_type": "markdown",
   "metadata": {},
   "source": [
    "# fliping coin 10 times"
   ]
  },
  {
   "cell_type": "code",
   "execution_count": 26,
   "metadata": {},
   "outputs": [
    {
     "name": "stdout",
     "output_type": "stream",
     "text": [
      "['heads', 'heads', 'heads', 'heads', 'heads', 'tails', 'tails', 'heads', 'tails', 'tails']\n"
     ]
    }
   ],
   "source": [
    "outcomes = []\n",
    "for x in range(10):    # 0 to 9\n",
    "    coin = np.random.randint(0, 2)\n",
    "    if coin == 0:\n",
    "        outcomes.append(\"heads\")\n",
    "    else:\n",
    "        outcomes.append(\"tails\")\n",
    "print(outcomes)"
   ]
  },
  {
   "cell_type": "markdown",
   "metadata": {},
   "source": [
    "# counting how many heads and tails occured in flipping 10 times"
   ]
  },
  {
   "cell_type": "code",
   "execution_count": 27,
   "metadata": {},
   "outputs": [
    {
     "data": {
      "text/plain": [
       "6"
      ]
     },
     "execution_count": 27,
     "metadata": {},
     "output_type": "execute_result"
    }
   ],
   "source": [
    "outcomes.count('heads')"
   ]
  },
  {
   "cell_type": "code",
   "execution_count": 28,
   "metadata": {},
   "outputs": [
    {
     "data": {
      "text/plain": [
       "4"
      ]
     },
     "execution_count": 28,
     "metadata": {},
     "output_type": "execute_result"
    }
   ],
   "source": [
    "outcomes.count('tails')"
   ]
  },
  {
   "cell_type": "markdown",
   "metadata": {},
   "source": [
    "$$ P(Heads) = 5$$  \n",
    "$$   P(Tails) = 5$$"
   ]
  },
  {
   "cell_type": "markdown",
   "metadata": {},
   "source": [
    "# Now we'll track total tails only "
   ]
  },
  {
   "cell_type": "code",
   "execution_count": 29,
   "metadata": {},
   "outputs": [
    {
     "name": "stdout",
     "output_type": "stream",
     "text": [
      "[0, 0, 1, 1, 2, 2, 3, 4, 4, 4, 4]\n",
      "4\n"
     ]
    }
   ],
   "source": [
    "tails = [0]\n",
    "for i in range(10):\n",
    "    coin = np.random.randint(0, 2)\n",
    "    tails.append(tails[i]+coin)\n",
    "print(tails)\n",
    "print(tails[-1])"
   ]
  },
  {
   "cell_type": "markdown",
   "metadata": {},
   "source": [
    "# Run 100 times a simulation of 10 coins"
   ]
  },
  {
   "cell_type": "code",
   "execution_count": 30,
   "metadata": {},
   "outputs": [
    {
     "name": "stdout",
     "output_type": "stream",
     "text": [
      "[5, 5, 5, 4, 3, 5, 5, 5, 6, 8, 6, 5, 6, 6, 6, 4, 3, 4, 2, 7, 7, 5, 6, 5, 8, 4, 5, 5, 9, 5, 6, 6, 5, 5, 4, 4, 5, 5, 7, 8, 8, 4, 3, 4, 5, 5, 4, 2, 8, 5, 6, 6, 4, 4, 7, 4, 7, 7, 5, 6, 5, 5, 4, 5, 5, 5, 6, 4, 7, 4, 6, 6, 2, 5, 3, 3, 4, 4, 5, 6, 7, 5, 8, 5, 4, 6, 8, 4, 5, 5, 4, 5, 9, 2, 7, 3, 7, 6, 9, 5] 100\n"
     ]
    }
   ],
   "source": [
    "final_tails = []\n",
    "\n",
    "for i in range(100):\n",
    "    tails = [0]\n",
    "    for i in range(10):\n",
    "        coin = np.random.randint(0, 2)\n",
    "        tails.append(tails[i]+coin)\n",
    "    final_tails.append(tails[-1])\n",
    "print(final_tails, end = ' ')\n",
    "print(len(final_tails))"
   ]
  },
  {
   "cell_type": "code",
   "execution_count": 32,
   "metadata": {},
   "outputs": [
    {
     "data": {
      "image/png": "[encoded data removed]",
      "text/plain": [
       "<Figure size 432x288 with 1 Axes>"
      ]
     },
     "metadata": {},
     "output_type": "display_data"
    }
   ],
   "source": [
    "import matplotlib.pyplot as plt\n",
    "%matplotlib inline\n",
    "plt.hist(final_tails, bins = 10, ec = 'k')\n",
    "plt.show()"
   ]
  },
  {
   "cell_type": "markdown",
   "metadata": {},
   "source": [
    "# Run 10,000 times "
   ]
  },
  {
   "cell_type": "code",
   "execution_count": 33,
   "metadata": {},
   "outputs": [
    {
     "name": "stdout",
     "output_type": "stream",
     "text": [
      "7 5 7 7 4 7 4 5 7 4 6 6 5 5 6 7 4 6 5 6 5 6 7 3 6 6 1 4 4 4 4 7 6 3 2 7 5 5 6 6 4 3 4 3 5 6 6 4 2 6 3 7 6 8 5 6 6 6 8 5 4 5 2 6 6 3 6 3 2 4 6 4 5 3 8 3 5 5 5 4 4 7 3 7 3 6 4 3 3 6 4 4 5 5 6 4 7 7 7 7 4 3 8 8 7 5 7 5 2 5 7 2 5 3 6 5 6 5 7 3 5 6 4 5 3 3 4 3 7 5 5 4 2 6 4 4 8 5 4 4 4 5 6 1 7 4 5 5 4 7 4 4 4 4 5 5 5 3 5 4 6 3 4 5 2 7 7 7 5 5 4 6 6 4 4 8 5 7 5 6 5 3 7 8 5 6 5 5 4 6 4 4 5 5 3 5 5 5 6 6 5 3 5 3 5 7 5 5 5 3 5 2 2 4 5 4 5 4 2 5 7 4 6 2 8 5 5 4 4 6 5 4 3 7 3 7 3 6 4 3 4 4 6 6 8 3 3 7 5 4 4 5 2 4 6 4 5 3 4 6 6 2 3 4 6 5 2 6 5 5 5 4 5 5 4 4 7 7 7 5 3 7 4 8 8 5 4 5 5 4 7 6 3 5 7 5 5 8 6 5 5 5 3 7 5 3 3 4 4 4 4 4 7 3 7 5 3 7 5 3 8 2 6 7 3 4 6 5 4 5 5 8 7 3 4 6 4 3 3 5 5 7 5 5 6 6 7 8 7 6 5 6 4 4 6 4 1 5 6 7 4 5 1 7 5 5 5 6 3 6 4 3 5 4 3 4 4 5 5 2 4 2 2 3 7 4 5 5 3 5 5 2 6 7 6 5 4 4 4 4 5 7 5 5 3 7 7 6 7 4 7 6 5 3 6 4 6 6 5 4 4 3 7 6 7 4 3 7 3 5 9 6 5 5 5 5 3 7 4 5 6 5 5 3 5 5 5 5 1 3 4 3 4 4 5 8 7 4 7 5 2 5 7 5 2 5 5 3 3 5 5 6 9 5 8 5 7 6 6 5 5 1 5 6 7 4 6 5 4 5 6 4 6 6 6 6 5 5 4 5 4 7 2 4 5 6 6 6 7 2 4 5 6 5 7 7 6 1 5 3 4 4 6 5 5 4 4 4 6 7 5 6 3 7 3 4 7 4 5 6 5 4 5 2 4 4 6 5 5 6 6 5 3 8 4 5 4 7 6 8 9 5 2 6 5 5 2 5 7 6 8 7 3 3 2 5 8 5 4 1 7 5 5 5 6 6 7 7 5 5 5 3 5 3 5 7 4 4 3 8 3 7 6 5 3 3 5 3 3 4 6 6 6 3 5 4 6 7 5 5 8 7 7 6 5 4 4 5 3 7 4 5 5 4 3 6 4 4 4 5 6 4 10 3 4 5 7 6 2 4 5 6 4 5 7 7 3 5 4 6 3 5 4 7 7 5 3 4 4 7 7 4 9 4 8 5 6 5 5 7 7 4 5 7 5 5 4 8 6 2 4 8 3 5 3 2 7 5 6 3 5 2 3 3 6 5 3 7 6 3 5 0 5 2 4 5 6 6 2 3 6 4 3 4 5 3 4 6 6 8 4 6 6 3 6 6 3 6 4 5 4 8 3 7 3 5 4 3 5 4 3 5 6 6 7 3 5 5 4 5 5 6 6 9 5 7 7 5 5 5 4 6 3 6 4 5 5 7 5 5 7 5 5 6 4 7 6 6 7 7 2 2 4 6 8 5 5 4 4 7 4 2 3 6 6 5 6 6 3 4 6 2 5 6 7 3 6 6 7 3 5 3 4 2 6 8 5 8 4 5 3 5 5 4 5 3 4 5 4 3 8 5 4 5 6 2 5 5 7 2 7 3 7 4 5 4 5 5 7 6 3 4 3 7 5 4 6 3 5 4 5 5 8 8 4 5 4 3 6 5 7 5 3 2 7 6 5 6 4 6 6 6 3 5 3 6 7 7 2 5 9 7 6 6 6 7 4 7 6 6 6 6 8 8 3 5 4 5 5 6 4 5 7 2 6 6 6 0 5 5 5 5 4 8 4 2 7 4 5 7 6 4 6 6 5 4 7 4 4 5 3 8 6 7 5 6 4 6 4 6 4 3 2 2 5 7 3 6 8 5 3 7 1 6 7 7 3 3 4 5 4 6 9 3 5 7 5 7 7 7 6 3 3 4 5 7 4 4 3 4 4 6 4 6 6 6 2 5 6 7 4 2 5 3 3 6 4 4 6 6 6 5 6 7 4 4 4 6 5 4 5 6 5 5 7 5 5 5 3 9 4 3 7 7 4 2 5 6 7 7 2 4 2 3 5 2 5 1 2 7 4 6 5 6 5 7 2 5 6 4 8 5 4 2 5 5 5 5 6 2 3 6 2 10 6 8 4 3 7 5 4 9 3 4 4 8 4 3 4 6 6 4 6 6 6 4 2 7 3 7 1 7 5 4 6 5 3 2 5 3 6 6 8 5 6 3 3 6 5 6 6 4 6 3 6 4 7 6 3 9 4 2 4 5 7 4 6 2 6 3 4 4 7 5 4 5 4 4 6 5 5 6 4 4 7 5 4 6 5 4 4 5 5 8 4 5 4 5 5 3 6 7 8 4 2 6 5 5 7 7 4 6 3 6 2 4 5 6 3 6 5 7 3 8 5 5 5 5 6 6 4 6 6 5 5 3 6 7 1 5 7 4 4 4 6 5 3 2 6 5 6 5 10 3 3 6 5 3 6 3 3 5 8 4 6 7 6 4 4 8 6 3 4 3 5 6 5 5 4 6 4 4 5 4 7 2 6 4 5 5 6 5 3 4 4 5 5 3 6 4 6 7 6 7 2 5 2 4 7 7 3 5 4 5 3 5 6 8 6 5 5 7 5 6 4 8 5 4 6 5 6 3 9 5 5 6 3 3 7 5 3 5 4 8 3 6 6 7 5 8 2 4 6 5 5 4 3 5 2 3 5 4 8 3 4 3 4 6 7 6 5 5 4 5 7 6 6 4 1 4 4 5 4 8 5 6 5 4 2 5 6 3 7 3 7 5 6 3 4 4 4 3 6 3 7 6 6 6 2 3 5 6 3 6 5 6 5 3 8 2 5 4 7 3 7 7 6 3 2 9 3 6 3 4 8 7 5 5 6 2 3 2 5 6 2 6 6 5 7 7 4 3 5 6 6 4 5 7 3 7 3 6 4 6 6 5 3 5 2 6 2 4 5 8 6 2 5 3 4 5 4 7 6 5 5 4 4 5 4 4 8 2 4 5 6 6 6 6 5 6 5 7 5 2 7 4 3 5 4 7 5 4 5 4 2 6 6 7 3 6 8 4 6 6 5 7 4 5 7 5 4 5 4 3 5 4 4 7 4 3 4 6 7 5 6 5 4 7 5 8 5 7 3 6 4 3 6 4 5 4 3 2 5 2 7 4 6 2 3 3 4 5 7 5 5 4 5 5 5 5 4 5 6 3 6 4 6 6 7 6 6 6 6 5 6 9 4 5 10 6 3 4 2 5 5 5 5 6 3 4 4 6 2 6 3 6 8 3 3 2 7 5 6 5 3 6 4 4 5 4 5 5 7 4 3 6 4 5 5 5 5 4 5 7 5 5 4 3 4 5 3 6 8 6 5 5 4 7 6 6 5 7 3 5 7 4 6 5 5 2 6 7 5 3 2 4 6 3 4 6 7 5 6 4 8 5 4 4 7 2 5 4 4 3 5 7 4 7 4 5 8 6 6 5 6 8 5 7 7 6 4 5 4 2 6 8 5 4 5 2 4 2 2 6 5 5 6 7 2 2 3 3 5 5 7 7 6 7 3 4 5 5 4 6 7 5 3 3 6 3 3 5 3 6 7 5 6 4 3 7 4 6 4 6 5 4 7 6 2 7 6 6 4 3 6 6 7 5 4 5 4 4 6 7 3 5 6 7 5 6 4 6 4 5 5 1 7 5 6 4 4 6 5 5 5 4 6 3 4 5 4 4 5 4 5 6 5 4 3 2 5 3 4 4 3 3 8 6 7 5 5 3 5 5 7 5 6 4 7 5 7 5 4 6 6 4 6 3 8 5 6 8 5 5 2 5 3 3 5 7 5 6 5 5 3 3 3 6 5 5 6 3 4 6 5 6 7 5 4 7 4 5 4 3 4 3 5 4 5 3 6 7 5 6 6 8 5 5 8 6 7 9 6 7 7 5 3 8 7 4 5 4 6 2 7 3 7 4 6 4 3 5 6 7 5 5 6 4 4 5 6 5 5 2 5 6 6 4 4 2 5 5 7 5 5 5 4 2 7 6 3 3 7 4 5 6 5 6 4 7 5 6 6 7 6 4 6 6 6 4 4 4 6 7 4 6 3 5 6 7 4 7 7 4 5 5 5 7 5 5 6 5 7 7 5 5 6 3 5 8 3 3 4 5 3 8 6 8 7 5 5 5 5 7 3 7 8 2 5 6 4 4 2 2 8 3 4 8 8 8 7 5 5 5 8 5 3 4 6 5 7 6 7 3 5 5 4 6 3 5 6 4 4 7 9 5 4 6 9 4 7 6 7 3 4 5 5 4 4 3 4 4 4 8 5 9 7 4 7 6 4 7 5 5 6 7 6 6 5 4 6 2 8 5 5 6 3 5 4 6 4 1 3 4 4 5 6 4 4 6 5 6 5 7 6 8 5 5 4 7 3 6 5 4 6 5 6 5 4 4 5 3 4 5 5 6 8 5 5 3 8 3 1 4 8 6 8 4 6 6 4 5 5 2 4 3 4 4 4 4 6 3 4 5 7 7 6 6 2 6 6 7 6 6 4 4 7 6 3 5 4 4 6 7 6 4 5 4 3 3 6 4 2 4 2 4 6 7 3 5 5 7 4 3 3 5 5 6 4 7 6 5 7 4 6 3 6 4 6 7 5 4 3 4 6 3 6 5 6 6 4 9 6 4 7 5 5 5 5 4 3 2 6 6 6 5 9 5 5 4 5 2 6 3 3 5 8 4 3 7 5 6 4 5 3 4 3 6 3 2 4 4 5 7 4 6 5 6 5 5 5 7 5 5 4 4 5 5 3 4 5 5 4 5 3 2 3 3 3 6 3 6 4 6 4 7 4 5 5 7 7 6 5 5 6 7 3 4 3 4 4 8 7 7 6 7 3 2 4 5 5 8 4 6 3 3 5 5 5 5 3 2 7 7 4 5 3 4 3 6 5 5 2 6 1 5 5 3 5 6 2 6 4 4 6 9 6 7 3 8 7 4 4 4 6 5 4 6 3 4 4 5 2 6 2 3 4 4 5 5 4 4 7 7 7 5 5 5 4 4 6 7 5 4 7 3 5 4 7 7 5 2 3 2 3 4 6 3 7 2 4 5 4 5 7 5 5 8 5 3 5 6 7 3 3 5 7 6 4 6 5 2 5 5 6 5 3 5 4 5 5 5 3 4 9 4 5 6 5 6 4 4 6 6 5 4 7 4 3 5 4 4 6 4 6 5 6 5 7 4 4 4 6 9 7 6 4 5 6 6 3 7 9 4 2 6 7 6 3 7 5 5 7 5 3 4 7 6 2 8 5 4 3 5 5 6 4 4 5 5 4 4 6 3 9 5 4 6 5 6 7 4 3 4 3 6 6 4 4 7 8 5 6 5 3 7 5 5 3 7 6 2 3 6 6 3 7 7 7 7 5 6 4 4 5 4 4 3 3 3 3 5 2 4 4 4 5 6 5 5 5 5 5 3 8 4 3 4 6 2 4 7 2 7 2 6 7 5 5 5 3 4 7 5 5 4 5 4 6 7 6 5 4 6 7 5 5 6 6 6 5 5 7 5 7 7 5 5 3 7 6 5 4 6 6 5 5 6 4 8 4 1 8 5 3 5 7 4 7 6 9 3 6 5 3 7 4 7 5 8 6 3 4 4 5 3 6 5 7 5 4 7 5 5 6 4 8 4 5 5 5 4 5 8 4 7 4 7 3 8 7 5 3 5 4 7 7 6 6 5 6 6 7 6 6 9 4 8 8 8 4 7 3 5 6 4 8 5 3 5 3 3 5 7 5 6 8 5 5 4 5 1 6 4 6 7 7 3 8 3 7 5 5 6 5 7 7 4 5 3 8 6 2 6 3 4 5 6 6 4 4 7 7 3 4 3 4 3 2 4 4 4 2 6 4 6 5 4 7 4 6 5 4 5 7 5 4 5 6 7 7 4 8 3 4 4 5 4 4 6 3 5 4 4 5 5 4 5 6 5 5 8 4 5 4 4 6 6 4 6 6 3 3 6 4 4 2 6 6 4 6 7 3 4 5 5 4 5 8 4 6 8 3 4 4 6 6 6 7 5 7 3 5 4 5 2 6 5 3 6 3 4 4 9 9 4 5 5 2 5 6 4 2 2 5 6 4 4 3 6 5 5 7 3 4 6 5 6 7 6 5 4 3 4 6 3 6 4 3 4 3 7 6 5 3 2 6 4 7 7 6 5 5 5 5 6 7 7 4 4 4 6 2 4 6 3 4 3 6 5 4 1 5 4 8 7 6 5 7 1 4 6 5 5 6 6 5 4 5 4 6 4 7 4 6 3 7 7 6 6 6 4 7 7 5 5 4 7 7 6 5 5 4 6 6 6 3 7 7 3 3 5 8 7 4 4 6 5 5 4 6 3 5 6 4 5 5 6 5 4 4 3 5 8 6 5 4 5 7 6 3 4 5 3 3 3 3 4 4 5 3 5 5 7 4 4 3 6 6 7 4 7 6 6 6 7 3 5 6 5 3 7 6 4 4 3 6 4 4 5 4 4 4 4 6 3 5 5 5 6 6 4 5 3 6 5 5 5 5 5 6 6 6 8 6 4 3 4 5 3 4 3 5 6 2 2 4 2 5 6 5 5 4 6 3 7 5 5 4 3 6 5 4 5 5 4 2 1 5 4 6 4 5 4 4 5 8 5 6 2 7 4 7 3 7 4 4 7 5 4 6 4 1 7 4 7 5 2 3 6 4 4 4 2 3 5 7 5 5 3 7 6 6 6 6 7 6 6 6 3 4 4 3 8 6 6 9 6 6 3 6 5 5 7 5 5 5 4 4 6 5 5 4 5 8 7 9 7 7 6 8 5 8 6 3 6 5 5 6 6 4 3 6 3 8 3 4 5 6 6 2 2 4 5 3 6 4 5 5 8 6 6 5 7 4 6 4 4 6 7 5 6 2 3 6 7 5 5 5 8 5 5 5 5 6 4 7 6 2 6 5 7 4 5 4 4 6 8 5 6 3 2 5 6 4 5 3 5 6 5 3 6 5 3 4 5 7 1 7 7 4 8 4 2 5 5 4 4 6 9 5 4 4 2 3 5 7 7 5 1 5 5 4 4 4 5 4 5 4 5 6 5 5 4 4 6 5 6 5 6 3 6 5 5 6 5 6 4 5 5 5 4 7 3 6 8 6 7 5 3 4 6 2 5 8 3 6 5 4 7 3 4 6 6 5 3 7 5 4 5 4 3 3 6 5 6 5 5 5 3 6 3 1 5 1 6 4 2 4 3 1 5 6 5 2 6 4 5 4 6 5 8 4 6 4 4 4 5 7 4 8 8 7 1 5 6 8 8 3 5 4 7 4 4 6 5 8 7 5 5 6 7 4 5 6 4 9 4 5 4 8 4 4 6 3 5 5 3 4 6 6 2 5 4 6 8 4 7 2 6 8 5 5 4 7 6 3 3 6 6 2 5 4 4 7 4 4 3 5 3 6 5 7 7 4 2 4 6 7 4 4 5 7 3 3 4 6 5 3 5 7 7 4 5 7 7 5 5 7 4 4 5 5 3 3 6 5 5 6 5 5 5 5 4 4 7 5 5 5 2 5 5 4 7 5 4 5 3 5 5 6 3 4 8 5 6 5 4 6 7 3 7 3 6 2 5 6 4 6 5 2 4 5 3 4 6 3 6 5 5 5 5 6 5 6 5 5 2 9 6 5 3 5 5 5 5 4 5 4 6 4 5 4 5 6 6 6 5 5 6 6 2 4 7 6 5 3 3 6 4 2 4 4 6 3 3 5 8 3 3 5 4 3 9 4 5 6 6 4 6 5 6 5 5 5 7 6 4 4 5 8 4 6 5 7 8 4 3 4 6 7 6 3 5 6 6 6 5 5 7 3 5 7 6 3 7 5 3 6 7 6 5 7 2 4 4 7 5 7 7 4 4 5 5 5 4 8 3 5 4 4 4 5 4 4 5 5 5 1 5 4 7 6 2 4 5 3 6 6 4 6 5 7 4 5 5 6 3 3 2 4 4 4 1 8 5 8 5 4 4 2 2 5 6 6 5 6 3 7 7 6 4 4 4 4 2 5 5 6 7 4 5 5 6 8 7 7 6 4 5 3 5 5 8 5 7 4 5 7 3 5 7 6 3 4 2 8 3 5 5 5 7 5 5 3 6 1 3 8 6 4 5 6 4 7 4 8 5 6 4 4 5 3 7 6 6 4 7 5 0 8 4 3 5 4 4 4 4 8 3 7 6 6 7 7 5 6 6 3 4 5 8 6 5 4 7 6 2 5 5 4 6 6 6 4 4 3 9 2 4 4 2 2 8 6 3 6 4 8 5 3 7 7 3 6 4 3 5 6 3 1 5 4 5 6 6 5 5 5 6 4 5 4 3 5 7 6 6 3 6 7 4 5 4 6 7 8 6 7 8 4 4 6 3 5 7 8 2 6 6 4 5 5 3 4 5 4 6 6 6 5 8 7 7 3 6 1 6 6 6 2 2 5 2 4 8 7 6 6 4 3 6 7 3 1 7 4 4 4 6 5 4 5 5 5 7 4 4 7 5 7 6 5 3 4 7 3 7 5 5 4 5 6 3 6 5 5 5 3 7 6 3 2 3 4 6 5 9 5 3 4 4 7 6 3 5 6 4 5 5 7 6 3 6 4 5 3 3 5 3 6 5 6 4 6 4 4 5 6 5 5 5 6 5 3 7 5 5 5 6 6 6 5 5 5 4 3 5 4 4 7 5 5 7 7 6 5 7 7 4 6 7 6 2 4 6 4 7 6 5 5 4 4 3 7 6 6 5 7 9 3 4 6 5 5 8 3 4 6 7 1 6 8 4 3 6 4 7 4 2 5 4 5 8 6 6 6 5 5 7 7 5 9 5 7 9 5 5 5 4 6 4 5 4 9 5 4 5 6 6 4 6 5 4 3 5 4 4 5 5 4 6 5 4 6 6 4 5 5 5 6 6 6 4 4 2 4 7 6 7 2 4 5 7 6 2 5 6 4 2 2 4 7 7 4 2 5 8 5 4 5 5 6 6 5 2 5 5 5 6 5 3 6 4 4 3 5 4 3 6 3 3 3 1 5 8 8 4 5 6 7 3 7 4 4 4 5 7 6 2 4 6 5 4 3 6 2 3 6 6 6 5 2 5 6 4 4 6 8 3 5 5 4 3 3 7 7 3 5 4 5 5 3 6 6 6 5 6 5 6 5 3 6 6 5 6 3 4 7 3 3 8 3 2 2 4 4 6 6 4 6 5 6 6 3 4 5 5 5 5 6 4 4 4 2 5 3 5 5 6 4 7 5 7 4 4 7 7 3 7 6 7 6 7 3 5 3 3 7 4 3 3 6 2 4 5 5 6 4 6 8 7 4 3 3 3 4 6 8 7 5 2 4 5 6 5 6 7 5 8 6 3 6 4 8 5 4 5 3 6 2 6 4 4 3 4 5 6 6 6 7 8 5 7 4 8 4 5 5 6 3 4 4 7 5 5 2 5 4 7 5 7 5 6 5 7 7 7 7 4 4 4 4 4 6 1 5 4 4 6 7 6 5 4 7 4 8 7 5 5 5 4 5 3 6 6 4 8 7 3 7 5 5 6 2 5 4 4 6 3 4 3 5 4 2 5 4 6 5 7 6 6 6 5 5 6 4 5 7 5 6 5 5 4 3 5 4 5 5 5 6 6 1 5 4 5 7 7 5 2 5 4 5 5 8 5 3 5 5 4 3 5 4 4 5 2 4 6 3 7 6 7 6 4 4 4 8 4 4 5 6 4 4 7 5 2 3 5 3 5 4 7 4 3 8 5 3 6 4 5 6 4 7 5 4 5 7 7 5 4 4 5 6 6 2 3 2 6 6 5 5 5 2 5 4 8 8 4 4 4 6 6 6 3 5 6 3 6 5 6 5 6 6 2 6 7 3 5 8 4 5 9 3 8 3 4 7 2 5 6 5 4 8 4 7 6 6 6 4 3 3 5 6 5 4 4 6 3 5 4 5 5 6 7 6 5 7 4 8 6 2 5 6 6 3 5 5 5 5 3 4 6 5 4 9 7 7 5 6 7 4 7 5 4 4 7 7 6 4 5 5 6 4 8 6 6 7 5 6 3 5 7 5 8 6 5 3 9 7 4 5 7 7 7 6 8 6 6 4 6 7 4 6 4 4 6 5 5 4 5 5 4 2"
     ]
    },
    {
     "name": "stdout",
     "output_type": "stream",
     "text": [
      " 6 3 5 6 6 3 5 5 6 6 6 5 2 3 5 4 7 4 5 5 7 5 5 7 6 6 7 7 5 3 8 6 5 7 4 4 6 3 6 4 7 4 5 7 8 5 7 4 4 4 7 3 6 5 4 6 6 7 4 5 6 4 9 3 4 5 6 6 3 4 5 4 4 4 8 6 7 6 1 3 7 7 4 5 6 4 5 5 2 6 6 5 7 6 5 5 5 7 6 6 4 6 5 3 5 6 5 5 3 4 6 7 4 5 5 7 3 5 4 2 4 5 5 3 4 5 5 5 4 4 5 5 5 2 3 5 7 5 7 7 5 6 5 4 4 3 6 8 5 1 7 6 5 8 5 5 5 5 4 5 4 5 5 4 3 5 4 5 4 6 5 3 1 4 4 5 2 5 7 4 3 3 4 8 3 4 4 4 7 7 7 4 6 6 6 5 3 4 6 2 6 5 5 5 5 5 6 6 6 6 7 5 4 6 6 6 4 4 6 7 6 6 6 4 6 4 6 6 5 6 6 7 8 6 3 7 8 6 4 4 6 2 5 3 3 8 4 7 3 3 7 4 7 5 3 5 6 4 4 6 5 3 5 4 4 5 3 6 4 2 1 7 3 4 7 5 5 7 4 5 5 6 7 4 7 8 5 5 1 8 5 6 5 7 5 5 4 9 2 3 4 5 4 2 4 8 6 6 5 1 6 6 5 6 7 7 6 4 7 7 4 5 4 5 7 2 7 6 6 6 6 3 5 5 3 5 5 7 5 6 7 5 2 3 5 6 4 5 4 3 6 6 4 6 4 3 9 6 6 5 5 7 5 2 5 6 6 8 8 4 8 6 7 6 5 5 7 7 5 3 5 3 5 4 2 8 5 6 3 5 5 6 4 6 5 5 4 8 6 5 7 3 4 4 6 2 7 4 1 4 9 4 4 8 5 9 5 2 8 4 5 4 5 5 4 6 8 6 8 3 6 8 5 3 6 2 7 5 3 5 5 4 2 4 3 6 6 6 7 5 6 4 6 6 8 7 2 2 6 3 5 7 6 3 5 7 4 6 1 4 4 5 4 3 5 3 7 7 4 3 5 5 7 4 9 5 7 3 4 4 4 5 2 5 5 6 4 6 6 8 5 3 6 2 6 5 2 5 6 5 8 3 5 6 5 5 5 6 6 6 4 5 5 4 5 10 7 6 5 5 7 2 4 5 5 6 6 2 7 8 6 3 8 2 3 4 5 4 4 5 5 6 3 3 6 4 6 5 4 7 7 5 7 6 6 7 4 4 8 4 4 7 4 4 5 4 4 6 5 7 4 3 6 4 4 5 6 7 7 6 5 3 6 7 5 4 4 3 3 6 3 3 7 6 4 8 5 5 5 4 5 3 4 4 2 5 2 5 4 6 7 7 7 1 5 4 7 3 6 6 1 4 3 3 6 3 5 4 4 6 6 3 3 6 5 5 5 3 2 6 4 5 6 4 2 6 7 2 6 6 3 6 3 5 3 3 4 3 7 7 6 4 3 6 6 6 4 6 5 6 5 6 3 3 5 5 4 5 3 4 5 6 5 4 7 5 4 3 5 5 7 4 6 6 3 6 6 4 7 4 4 4 6 3 5 2 6 3 3 4 3 4 6 5 3 4 6 4 4 4 5 7 7 5 5 3 8 6 4 4 6 6 5 8 5 4 6 5 4 3 4 5 1 2 5 4 5 4 7 7 5 5 6 4 5 3 7 3 4 6 6 3 2 3 5 3 3 8 5 2 3 6 3 6 5 5 7 1 5 6 8 7 6 3 5 3 4 2 6 4 4 5 8 5 5 4 4 5 4 6 1 3 4 4 5 5 4 5 4 6 5 6 5 6 3 8 7 6 4 3 5 5 6 5 9 5 4 3 4 4 6 6 6 2 7 2 2 6 6 8 4 4 6 1 3 6 7 5 7 1 8 7 5 6 5 4 5 6 1 6 4 5 5 6 6 6 4 7 7 6 4 8 5 2 2 1 6 4 6 7 6 6 7 6 4 6 5 5 3 6 7 5 3 5 4 3 3 6 4 6 5 5 4 5 5 6 5 7 1 5 4 4 6 7 5 5 6 2 2 8 5 6 3 4 5 4 4 3 6 5 2 3 6 5 5 2 5 5 6 6 6 6 6 7 7 4 5 2 5 7 5 5 3 4 6 7 6 5 6 8 4 7 8 4 5 6 5 5 5 2 5 4 4 7 6 6 10 6 4 7 5 3 5 5 6 6 5 8 8 8 7 4 7 5 5 7 4 5 8 3 5 2 2 5 6 4 7 5 4 6 5 7 6 5 6 3 3 3 1 4 5 5 3 4 4 4 6 7 4 8 4 6 6 6 7 3 3 4 2 3 4 7 6 7 2 4 4 8 7 5 7 4 6 8 4 8 4 5 5 2 6 4 4 2 6 7 7 4 6 6 6 6 6 4 4 6 7 4 3 5 6 6 5 6 7 4 5 7 6 7 5 7 7 4 5 5 7 6 4 3 3 6 7 6 6 3 6 3 7 4 5 6 5 6 6 7 4 5 8 6 6 9 2 5 6 4 5 3 5 9 5 9 8 4 4 4 7 7 6 3 5 6 6 7 2 6 4 6 5 5 3 3 6 6 5 5 5 4 5 6 4 4 4 4 7 4 6 5 3 2 6 5 4 4 5 2 6 5 6 4 4 5 6 7 6 6 5 7 5 5 7 6 4 3 5 4 7 7 6 5 6 6 8 4 7 5 5 3 6 6 5 5 4 7 6 6 4 8 6 4 7 4 3 4 6 6 5 6 3 5 6 3 3 6 6 3 7 4 3 7 5 4 3 4 8 6 6 5 5 4 7 5 4 2 8 6 7 6 5 4 5 4 5 9 4 2 6 3 2 7 6 6 7 7 7 5 5 2 4 1 7 8 6 5 2 5 3 6 5 4 4 5 4 5 0 4 3 6 4 5 3 9 8 6 5 4 4 6 2 6 6 5 7 6 5 6 7 4 4 5 8 5 5 4 3 9 7 4 4 4 7 6 4 4 7 5 5 7 5 5 6 6 6 6 6 4 6 4 6 7 5 6 6 4 5 4 6 4 4 9 9 4 2 4 5 5 4 6 5 8 7 6 5 5 7 6 5 3 5 8 6 4 2 2 7 4 4 4 2 2 5 5 4 6 6 5 3 3 6 5 5 4 6 6 4 7 5 6 1 3 8 8 5 4 5 3 3 1 3 5 6 2 6 4 4 6 3 5 6 5 5 5 5 5 4 2 6 7 5 4 5 7 5 6 4 4 6 3 7 7 4 4 3 6 4 5 5 5 5 6 4 7 5 4 3 5 6 7 2 4 3 9 6 8 4 2 3 4 4 9 3 4 6 8 4 9 5 6 4 6 3 3 4 3 7 4 5 6 3 4 4 2 6 4 2 7 5 3 5 6 6 6 4 4 2 7 7 6 8 4 4 7 3 5 6 8 5 9 5 5 5 5 7 4 5 8 4 6 5 5 6 3 5 6 5 7 6 7 4 7 3 4 4 4 7 5 2 7 5 8 4 8 2 5 2 3 5 4 6 6 4 5 3 5 6 6 7 5 3 4 1 6 4 4 6 6 6 7 3 8 9 6 5 3 4 5 6 7 7 8 4 5 5 4 4 4 5 8 5 5 4 3 7 4 4 5 5 8 6 7 5 8 4 4 5 3 6 5 5 4 4 4 2 8 5 5 5 5 5 5 4 6 5 4 6 5 6 7 9 7 3 8 2 5 8 6 5 4 5 5 6 5 7 6 9 6 0 4 8 6 3 4 3 7 3 5 5 6 5 6 4 5 4 6 5 5 6 5 5 6 4 6 7 4 4 4 5 3 4 6 4 3 3 8 3 4 4 3 5 4 3 7 5 3 6 6 5 7 2 4 7 5 4 3 4 6 6 7 5 5 5 5 7 6 6 4 5 4 3 4 4 6 5 5 4 5 6 5 4 5 3 5 4 4 4 7 7 6 7 5 7 7 5 3 4 5 4 1 4 5 3 5 8 3 6 5 4 2 8 4 5 2 4 4 3 4 6 4 5 6 4 4 2 6 4 5 5 6 7 5 5 3 4 2 2 5 5 2 5 5 6 3 7 1 5 7 5 8 5 7 5 7 4 4 3 2 4 4 3 5 8 4 1 5 6 8 5 2 5 4 4 1 6 6 5 8 3 4 6 4 5 6 4 5 8 5 4 6 4 8 10 5 2 5 3 6 6 2 6 7 7 5 3 6 7 3 5 7 7 3 5 2 2 5 3 8 5 6 7 5 4 5 5 7 4 5 3 4 3 5 6 2 5 5 8 5 5 3 4 6 5 5 4 7 3 4 2 7 5 7 4 1 3 8 4 5 4 5 4 6 3 1 5 5 5 5 4 3 6 5 5 8 8 4 3 4 5 4 7 4 5 6 4 6 5 6 5 6 4 5 6 5 5 4 4 3 5 5 4 7 2 3 6 2 6 7 7 5 6 7 5 8 5 3 3 4 9 5 8 4 6 5 5 6 5 6 6 7 5 5 6 5 8 6 6 5 5 7 8 6 3 6 6 6 3 4 4 6 4 5 7 7 7 5 4 4 3 2 3 5 5 5 5 5 3 3 5 2 5 5 5 6 7 5 4 7 6 4 3 4 7 5 6 5 5 3 7 6 4 4 4 5 7 4 5 4 5 5 4 5 7 6 3 5 4 5 4 8 5 4 6 6 8 5 4 2 7 3 7 6 4 3 6 6 6 4 4 6 6 4 5 3 6 4 6 4 7 3 4 6 4 4 7 4 4 5 3 7 6 6 7 5 3 5 3 4 6 6 4 3 7 9 5 7 3 6 3 5 7 6 6 6 7 6 3 6 3 4 4 7 5 3 6 7 5 7 5 3 6 6 6 5 4 6 5 4 4 7 3 6 5 8 6 4 6 3 5 5 6 4 3 1 2 5 4 4 5 5 6 4 6 4 4 6 6 4 7 5 5 4 5 7 6 6 4 5 3 5 6 6 6 2 3 6 2 8 7 4 5 7 5 3 5 7 4 7 4 4 4 3 3 4 5 4 8 8 2 5 4 8 6 6 4 6 3 4 5 3 5 4 4 2 5 2 5 5 7 3 5 7 7 7 2 5 5 5 2 4 5 7 5 6 3 7 6 6 4 6 1 5 5 4 8 5 3 2 4 5 4 7 6 7 6 3 3 5 6 3 5 4 6 5 6 4 7 4 4 5 6 3 4 7 6 8 6 5 6 6 6 5 7 4 6 4 5 8 7 3 4 6 5 6 3 5 6 4 4 6 2 3 4 4 7 6 4 5 6 5 4 3 4 6 6 2 3 5 6 8 6 5 6 5 6 6 6 5 5 7 7 4 6 5 5 3 3 4 5 6 6 6 7 7 3 5 5 6 5 4 8 8 3 7 5 3 6 5 5 4 7 3 6 4 4 8 9 5 7 6 4 5 6 4 8 7 4 5 5 3 4 6 5 5 4 6 5 7 4 2 4 5 3 6 5 6 8 5 6 4 5 2 5 4 6 8 4 6 6 5 4 9 7 5 3 3 6 5 5 6 5 5 3 5 5 4 4 5 3 5 8 3 0 4 3 5 6 6 6 2 4 5 5 3 7 3 5 5 6 5 3 4 5 5 3 5 6 6 6 4 5 6 3 7 4 2 10 4 3 6 7 6 6 6 9 5 4 6 4 3 6 4 5 9 6 4 3 4 3 6 5 1 3 6 6 3 3 4 2 6 6 5 6 4 6 4 5 6 4 5 4 5 4 4 7 3 2 4 4 6 7 4 5 2 1 5 6 5 4 5 4 4 5 5 6 5 4 5 5 6 5 3 6 5 6 5 7 5 3 8 5 5 5 3 5 6 4 5 2 6 6 6 5 4 6 7 4 7 2 3 5 5 3 2 6 4 5 6 5 6 6 5 3 4 3 4 6 4 7 8 6 7 3 4 4 8 6 6 6 6 0 3 5 5 6 4 7 7 5 6 8 4 7 3 6 4 5 6 7 6 4 5 5 5 4 3 5 3 3 6 2 6 6 5 3 5 2 6 4 5 3 4 7 8 4 4 7 7 4 4 5 5 5 6 5 4 5 4 5 7 3 7 3 4 4 6 3 4 8 3 4 6 3 2 4 5 6 5 4 9 4 6 8 6 5 6 7 4 5 6 5 6 7 5 5 6 7 2 9 3 6 3 7 3 4 6 2 5 5 4 5 6 4 5 7 7 3 6 5 6 5 7 4 4 2 5 5 6 6 5 8 5 6 5 5 7 4 5 3 6 6 5 4 5 3 2 7 6 5 6 9 6 5 4 4 5 3 7 3 4 6 4 6 8 9 6 7 5 5 6 4 7 5 4 3 4 4 6 4 4 6 6 9 5 2 4 2 8 4 4 2 6 7 5 5 5 4 5 4 4 5 3 2 6 8 4 6 6 5 6 4 3 4 5 4 2 9 6 4 7 6 5 8 4 6 3 5 6 6 8 5 2 5 6 6 6 6 5 7 5 6 4 5 4 3 3 7 7 6 4 4 1 5 7 4 5 6 5 3 3 3 6 5 6 5 4 3 7 6 5 5 4 7 4 6 6 8 4 5 5 6 4 4 3 4 3 3 6 1 6 5 4 6 6 4 4 4 4 6 3 4 4 3 7 8 6 4 3 4 4 3 5 4 5 5 5 6 6 3 4 5 6 6 7 7 7 2 5 4 7 7 4 5 5 4 5 4 4 5 7 3 5 7 1 7 6 6 5 7 3 5 6 7 5 2 5 5 6 5 2 5 5 4 6 7 6 4 5 7 5 4 3 5 5 5 5 6 3 6 6 3 3 7 6 6 8 5 7 4 4 4 5 4 5 8 4 6 7 2 5 8 4 7 4 7 6 3 5 4 4 5 1 4 7 9 4 7 3 5 4 4 8 3 6 7 5 6 4 4 3 4 6 3 4 6 4 6 6 5 3 6 6 6 6 3 7 7 5 3 4 6 8 6 4 1 5 5 4 3 5 3 4 3 4 5 3 5 4 3 4 6 6 6 6 5 6 7 6 4 5 6 5 6 6 3 5 7 5 5 4 5 8 5 6 4 5 6 5 5 5 5 3 6 5 5 6 3 5 5 5 6 4 6 3 6 6 4 8 3 6 4 4 8 6 4 5 5 6 3 5 5 4 4 4 6 5 4 7 3 3 4 5 3 4 4 6 6 6 6 4 5 5 5 5 4 6 4 3 7 2 5 4 3 3 4 7 5 7 7 5 4 2 9 4 4 5 4 6 4 6 5 5 6 3 3 6 5 6 3 3 2 4 6 6 4 5 9 4 7 3 7 3 4 3 5 7 6 6 7 3 3 7 9 3 2 7 4 3 4 4 2 6 2 7 7 3 3 10 4 6 5 4 4 4 7 5 3 7 6 5 9 3 4 5 3 3 6 7 5 3 3 4 5 4 5 6 6 5 2 6 5 4 7 4 4 4 5 3 6 4 5 5 6 2 5 5 4 3 5 4 5 4 5 8 5 6 9 7 3 4 5 1 6 2 3 5 2 6 4 6 4 4 5 3 5 4 6 7 5 5 6 5 3 3 4 5 4 7 7 6 4 1 7 7 2 6 5 7 5 7 4 3 3 3 2 4 4 4 5 6 6 3 8 5 6 3 7 3 4 6 4 2 4 3 7 3 8 4 4 5 7 5 6 3 4 5 6 3 5 6 5 3 4 3 2 7 6 6 5 2 4 5 5 8 5 5 5 4 5 7 3 6 2 6 6 4 6 7 5 6 6 5 4 5 5 5 5 5 4 4 4 2 6 6 4 5 4 6 5 8 7 7 4 6 6 5 5 7 5 6 4 5 6 4 5 3 7 6 6 4 4 5 6 3 3 7 4 8 6 8 6 5 5 6 7 5 4 4 9 2 3 5 3 4 6 2 5 4 4 4 3 4 5 4 6 6 3 6 5 6 4 7 5 6 5 4 6 4 6 2 5 4 4 5 5 5 3 5 7 6 5 7 4 3 6 5 6 4 5 7 7 8 5 5 7 6 6 5 6 5 0 7 4 7 2 4 5 6 6 4 5 4 7 7 4 5 4 5 8 6 4 6 9 5 5 4 3 6 5 4 4 4 6 5 6 4 6 6 6 5 5 4 4 5 7 4 4 6 7 4 7 4 4 4 7 5 5 2 4 3 4 3 6 8 7 3 2 3 4 5 7 6 6 6 6 5 4 1 4 4 4 4 7 4 4 8 4 5 4 4 7 9 5 3 5 5 5 5 3 5 6 8 5 6 8 3 4 2 1 4 1 8 4 6 4 6 7 3 6 2 8 3 2 3 5 7 5 4 6 7 5 8 4 5 5 7 7 4 2 2 4 6 6 8 2 5 4 5 6 5 5 5 5 6 4 6 7 5 5 5 5 3 8 7 6 8 5 6 3 4 7 8 3 5 4 5 4 4 4 5 6 7 5 6 8 4 4 7 3 3 5 6 8 5 7 4 6 5 6 4 9 3 7 5 7 6 4 6 1 10 7 5 6 9 4 5 4 5 3 7 6 4 9 3 5 6 7 4 7 5 4 2 5 7 2 7 7 5 4 4 5 6 3 6 4 2 6 4 5 5 5 2 5 3 6 6 3 8 3 4 3 3 3 6 5 4 6 5 6 4 4 1 6 4 3 7 5 6 5 4 6 5 3 6 7 4 2 6 6 5 3 5 3 5 5 3 5 5 5 6 4 6 4 6 4 10 3 5 6 5 8 5 5 4 5 6 3 7 5 3 6 3 7 3 3 6 5 7 4 4 3 4 8 3 6 6 6 4 3 3 5 4 5 9 6 5 6 4 5 5 4 6 4 6 5 5 7 8 7 5 5 4 6 4 5 6 6 5 3 4 4 5 3 2 3 3 7 5 5 7 2 3 5 9 8 3 5 6 6 7 6 3 6 6 1 6 2 4 6 5 5 5 5 9 7 6 5 4 4 6 6 5 3 4 3 8 1 4 2 5 4 7 7 4 7 2 6 2 4 5 6 3 8 4 4 2 4 7 4 3 7 4 4 5 5 3 7 5 4 5 5 2 6 3 6 7 4 5 7 4 6 4 4 5 6 6 5 6 6 6 9 4 6 4 3 3 7 8 8 6 4 5 5 5 6 3 7 6 8 3 8 2 6 6 9 4 5 2 2 6 2 7 3 4 4 8 3 6 8 4 3 4 3 4 7 6 3 5 3 3 4 6 5 4 3 6 5 4 3 9 5 7 6 7 7 6 5 8 5 6 5 4 4 4 5 4 4 3 6 5 7 6 9 5 4 5 5 4 4 5 5 3 4 5 6 5 7 4 5 7 3 5 5 6 3 4 6 6 4 5 4 4 7 7 6 5 4 4 6 6 6 7 3 3 4 2 2 6 5 6 6 2 4 7 3 5 4 8 6 2 5 2 4 4 4 4 6 6 7 5 5 4 7 4 6 6 6 5 3 6 8 6 4 6 4 7 5 6 6 4 2 4 8 5 5 4 7 8 6 4 4 6 8 7 3 4 3 5 4 5 6 7 3 5 5 4 8 4 4 9 4 4 5 6 2 5 4 6 1 4 5 5 5 8 5 7 6 5 3 6 4 5 6 4 5 6 4 6 4 5 4 7 4 6 7 6 5 5 7 6 9 2 2 3 5 4 7 5 2 5 3 4 5 6 5 4 5 7 7 6 6 1 4 4 5 5 6 6 8 8 5 4 5 6 7 5 6 5 4 7 8 3 7 5 5 2 3 5 3 5 4 8 3 6 4 4 2 2 2 7 6 5 5 7 7 9 2 4 3 5 5 7 5 5 4 6 6 5 5 4 5 4 6 4 6 6 7 5 5 3 6 7 6 3 5 2 4 4 2 5 6 4 5 6 7 6 6 5 3 8 4 6 4 6 6 5 4 5 6 5 5 5 7 5 6 5 7 4 4 3 4 6 5 7 5 3 9 4 4 7 4 5 6 4 7 5 4 4 5 7 4 4 5 5 5 6 5 6 5 4 4 4 5 4 7 6 5 7 4 7 4 5 5 3 7 3 5 7 7 5 6 6 6 5 5 5 5 6 9 6 5 6 4 9 4 4 4 4 5 6 5 7 7 6 6 8 7 4 4 3 5 5 1 3 4 7 6 2 3 5 7 4 4 7 6 5 5 7 5 6 7 4 3 4 5 6 7 5 5 2 6 6 5 4 5 3 7 2 5 5 9 6 4 2 7 4 4 6 6 3 4 3 4 6 5 5 4 7 2 6 6 6 4 5 2 5 6 6 7 1 5 3 4 6 3 4 3 6 6 5 5 7 6 6 4 5 4 5 7 5 5 4 7 5 5 2 4 5 7 4 5 6 8 2 3 7 9 3 4 9 4 5 4 2 6 5 5 4 7 5 3 3 4 4 6 3 5 4 5 6 6 2 7 5 6 4 5 7 5 7 4 4 4 7 3 8 4 5 5 4 5 7 5 6 5 4 4 4 6 7 7 5 5 6 4 5 9 3 7 7 6 4 5 6 4 5 5 5 2 6 4 7 6 8 5 3 5 4 3 6 4 7 2 4 4 3 7 6 4 3 5 6 5 4 8 2 5 7 4 7 6 4 6 3 3 5 6 5 6 1 4 5 7 2 4 5 6 2 6 2 4 5 5 8 5 4 5 3 5 6 1 4 5 7 6 3 6 5 4 4 5 4 6 6 6 4 7 6 7 2 6 5 7 3 6 7 4 6 4 4 5 7 5 5 6 7 3 5 7 4 7 4 7 4 4 7 5 6 4 4 5 4 7 5 6 4 2 4 4 5 7 7 5 5 4 5 7 4 6 6 4 3 6 3 4 3 6 3 5 3 3 3 4 8 4 7 5 7 6 3 7 4 3 5 5 1 5 7 3 4 4 4 5 6 6 4 6 5 5 6 4 4 7 6 3 5 3 4 5 6 2 6 5 4 5 3 7 7 7 3 5 8 5 7 5 3 5 6 5 8 2 4 4 4 2 5 6 6 2 5 6 5 7 2 5 4 5 6 4 5 4 5 3 2 7 5 4 6 3 7 5 6 6 7 4 8 3 6 4 4 6 3 6 7 3 4 6 3 4 6 6 7 5 6 2 9 5 5"
     ]
    },
    {
     "name": "stdout",
     "output_type": "stream",
     "text": [
      " 7 7 6 4 2 5 6 4 6 7 3 3 4 5 2 4 4 3 5 6 6 4 4 7 3 4 6 6 5 7 3 4 9 7 7 4 4 5 9 4 5 5 4 6 2 3 5 6 4 7 6 4 5 4 4 2 4 5 4 4 5 4 6 4 7 5 2 2 5 3 5 6 5 6 5 6 8 7 5 6 6 5 6 7 6 7 7 5 5 6 8 6 7 5 5 4 4 4 7 6 3 5 6 6 4 5 3 4 4 8 5 6 3 4 4 6 5 4 5 3 4 5 4 5 6 6 3 6 4 7 5 4 4 3 6 4 5 6 4 3 6 6 7 7 6 6 3 4 7 8 2 6 6 5 6 4 5 2 3 6 7 4 6 4 5 7 4 3 4 4 1 6 2 3 4 6 7 6 3 5 6 5 3 8 4 5 6 3 5 8 5 6 4 5 4 5 5 5 5 6 7 3 5 5 5 3 5 7 2 4 6 5 3 4 5 3 4 4 5 5 7 4 4 5 8 7 4 6 6 6 6 8 5 3 8 5 4 3 5 4 5 5 4 4 3 4 5 4 4 3 3 2 5 5 5 9 5 4 5 5 4 7 4 7 2 2 6 3 3 7 4 4 5 3 5 4 7 8 7 2 4 4 7 7 4 3 6 3 5 7 4 5 5 6 6 8 2 4 4 3 5 6 2 2 8 8 6 7 7 6 4 5 8 7 3 6 6 3 5 4 6 3 5 4 3 6 6 4 3 2 7 5 4 5 6 5 4 4 4 2 2 6 4 4 7 6 6 5 4 5 8 4 6 5 4 6 8 5 4 7 7 5 5 8 3 8 7 8 1 5 4 4 7 5 7 4 6 4 5 5 8 6 3 7 4 5 5 4 5 4 4 4 3 4 4 5 5 4 8 4 4 5 3 8 8 8 7 5 6 8 7 3 5 2 6 7 4 6 6 4 7 "
     ]
    }
   ],
   "source": [
    "final_tails = []\n",
    "for i in range(10000):\n",
    "    tails = [0]\n",
    "    for i in range(10):\n",
    "        coin = np.random.randint(0, 2)\n",
    "        tails.append(tails[i]+coin)\n",
    "    final_tails.append(tails[-1])\n",
    "    print(final_tails[-1], end = ' ')"
   ]
  },
  {
   "cell_type": "code",
   "execution_count": 34,
   "metadata": {},
   "outputs": [
    {
     "data": {
      "image/png": "[encoded data removed]",
      "text/plain": [
       "<Figure size 432x288 with 1 Axes>"
      ]
     },
     "metadata": {},
     "output_type": "display_data"
    }
   ],
   "source": [
    "import matplotlib.pyplot as plt\n",
    "%matplotlib inline\n",
    "plt.hist(final_tails, bins = 10, ec = 'k')\n",
    "plt.show()"
   ]
  },
  {
   "cell_type": "code",
   "execution_count": null,
   "metadata": {},
   "outputs": [],
   "source": []
  }
 ],
 "metadata": {
  "kernelspec": {
   "display_name": "Python 3",
   "language": "python",
   "name": "python3"
  },
  "language_info": {
   "codemirror_mode": {
    "name": "ipython",
    "version": 3
   },
   "file_extension": ".py",
   "mimetype": "text/x-python",
   "name": "python",
   "nbconvert_exporter": "python",
   "pygments_lexer": "ipython3",
   "version": "3.6.3"
  }
 },
 "nbformat": 4,
 "nbformat_minor": 2
}
